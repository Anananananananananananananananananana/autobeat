{
 "cells": [
  {
   "cell_type": "code",
   "execution_count": 1,
   "id": "3e9a305e",
   "metadata": {},
   "outputs": [],
   "source": [
    "# Import libraries\n",
    "import numpy as np\n",
    "import heapq\n",
    "import pandas as pd\n",
    "import tensorflow as tf\n",
    "from tensorflow import keras\n",
    "from tensorflow.keras import layers\n"
   ]
  },
  {
   "cell_type": "code",
   "execution_count": 2,
   "id": "2d527c89",
   "metadata": {},
   "outputs": [],
   "source": [
    "# Constants\n",
    "NUM_TOP_MAPS = 1024         # Number of popular maps to select\n",
    "NUM_TOP_PLAYERS = 1024      # Number of prolific players to select\n",
    "REPRESENTATION_SIZE = 11    # Size of skill/difficulty embedding\n",
    "NUM_EPOCHS = 1000           # Number of epochs to train for\n",
    "BATCH_SIZE = 10000          # Number of scores per batch"
   ]
  },
  {
   "cell_type": "code",
   "execution_count": 3,
   "id": "397809e5",
   "metadata": {},
   "outputs": [],
   "source": [
    "# Load top players and maps\n",
    "scores = pd.read_csv('AllScoresExtracted.csv')\n",
    "scores = scores.query(\"Modifiers.isnull()\").copy(deep=True)\n",
    "top_players = scores['PlayerId'].value_counts().iloc[:NUM_TOP_PLAYERS].index.tolist()\n",
    "scores = scores.query('PlayerId in @top_players').copy(deep=True)\n",
    "top_maps = scores['LeaderboardId'].value_counts().iloc[:NUM_TOP_MAPS].index.tolist()\n",
    "scores = scores.query('LeaderboardId in @top_maps').copy(deep=True)\n",
    "scores['LeaderboardId'], maps = pd.factorize(scores['LeaderboardId'])\n",
    "scores['PlayerId'], users = pd.factorize(scores['PlayerId'])"
   ]
  },
  {
   "cell_type": "code",
   "execution_count": 4,
   "id": "2b654a11",
   "metadata": {},
   "outputs": [],
   "source": [
    "# Select PlayerId, LeaderboardId as inputs, Accuracy as target\n",
    "X_maps = []\n",
    "X_users = []\n",
    "y = []\n",
    "for index, row in scores.iterrows():\n",
    "    X_maps.append(row['LeaderboardId'])\n",
    "    X_users.append(row['PlayerId'])\n",
    "    y.append(row['Accuracy'])"
   ]
  },
  {
   "cell_type": "code",
   "execution_count": 5,
   "id": "4fa20bfb",
   "metadata": {},
   "outputs": [],
   "source": [
    "# Convert to one-hot encoding\n",
    "X_maps = tf.one_hot(X_maps, depth=NUM_TOP_MAPS)\n",
    "X_users = tf.one_hot(X_users, depth=NUM_TOP_PLAYERS)\n",
    "y = np.array(y)"
   ]
  },
  {
   "cell_type": "code",
   "execution_count": 6,
   "id": "5d618964",
   "metadata": {},
   "outputs": [],
   "source": [
    "# Define the model architecture\n",
    "map_input = layers.Input(shape=(NUM_TOP_MAPS,))\n",
    "map_embedding = layers.Dense(REPRESENTATION_SIZE)(map_input)\n",
    "map_model = keras.Model(inputs=map_input, outputs=map_embedding)\n",
    "map_model.compile(\n",
    "    loss=\"mae\",         # Use mse as the loss function\n",
    "    optimizer=\"adam\",   # Use adam as the optimizer\n",
    "    metrics=[\"mae\"]     # Use mae as the metric\n",
    ")\n",
    "\n",
    "map_input_2 = layers.Input(shape=(NUM_TOP_MAPS,))\n",
    "map_embedding_2 = map_model(map_input_2)\n",
    "\n",
    "user_input = layers.Input(shape=(NUM_TOP_PLAYERS,))\n",
    "user_embedding = layers.Dense(REPRESENTATION_SIZE)(user_input)\n",
    "\n",
    "output = layers.Dot(axes=1, normalize=False)([map_embedding_2, user_embedding])\n",
    "output = layers.Dense(1, activation=\"linear\")(output)\n",
    "model = keras.Model(inputs=[map_input_2, user_input], outputs=output)"
   ]
  },
  {
   "cell_type": "code",
   "execution_count": 7,
   "id": "bbc4e7f4",
   "metadata": {},
   "outputs": [],
   "source": [
    "# Compile the model with loss and metrics\n",
    "model.compile(\n",
    "    loss=\"mae\",         # Use mse as the loss function\n",
    "    optimizer=\"adam\",   # Use adam as the optimizer\n",
    "    metrics=[\"mae\"]     # Use mae as the metric\n",
    ")"
   ]
  },
  {
   "cell_type": "code",
   "execution_count": 8,
   "id": "c6a71aa8",
   "metadata": {},
   "outputs": [],
   "source": [
    "# # Train the model\n",
    "# model.fit([X_maps, X_users], y, batch_size=BATCH_SIZE, epochs=NUM_EPOCHS)"
   ]
  },
  {
   "cell_type": "code",
   "execution_count": 9,
   "id": "156e9a5c",
   "metadata": {},
   "outputs": [],
   "source": [
    "# # Evaluate the model\n",
    "# model.evaluate([X_maps, X_users], y, batch_size=BATCH_SIZE)[-1]"
   ]
  },
  {
   "cell_type": "code",
   "execution_count": 10,
   "id": "97690fb8",
   "metadata": {},
   "outputs": [],
   "source": [
    "# # Save models\n",
    "# model.save('saved_model')\n",
    "# map_model.save('saved_map_model')"
   ]
  },
  {
   "cell_type": "code",
   "execution_count": 11,
   "id": "f2a86b5e",
   "metadata": {},
   "outputs": [],
   "source": [
    "# Load models\n",
    "model = tf.keras.models.load_model('saved_model')\n",
    "map_model = tf.keras.models.load_model('saved_map_model')"
   ]
  },
  {
   "cell_type": "code",
   "execution_count": 12,
   "id": "64d93d7f",
   "metadata": {},
   "outputs": [
    {
     "name": "stdout",
     "output_type": "stream",
     "text": [
      "1/1 [==============================] - 0s 251ms/step\n"
     ]
    }
   ],
   "source": [
    "# Evaluate map ranks\n",
    "test_maps = tf.one_hot(range(NUM_TOP_MAPS), depth=NUM_TOP_MAPS)\n",
    "test_ranks = map_model.predict(test_maps, batch_size=BATCH_SIZE)"
   ]
  },
  {
   "cell_type": "code",
   "execution_count": 13,
   "id": "cdf681c3",
   "metadata": {},
   "outputs": [],
   "source": [
    "# Normalize map ranks\n",
    "test_ranks = [rank / np.linalg.norm(rank) for rank in test_ranks]"
   ]
  },
  {
   "cell_type": "code",
   "execution_count": 100,
   "id": "e87313e7",
   "metadata": {},
   "outputs": [
    {
     "name": "stdout",
     "output_type": "stream",
     "text": [
      "Target Map: https://www.beatleader.xyz/leaderboard/global/184df71\n",
      "\n",
      "Most Similar Maps:\n",
      "0.99911207 : https://www.beatleader.xyz/leaderboard/global/1a5e471\n",
      "0.99836046 : https://www.beatleader.xyz/leaderboard/global/15bd251\n",
      "0.9983109 : https://www.beatleader.xyz/leaderboard/global/1ac0e51\n",
      "0.99803126 : https://www.beatleader.xyz/leaderboard/global/1fc0891\n",
      "0.9979923 : https://www.beatleader.xyz/leaderboard/global/12ab331\n",
      "\n",
      "Least Similar Maps:\n",
      "0.47196716 : https://www.beatleader.xyz/leaderboard/global/c32d91\n",
      "0.48130992 : https://www.beatleader.xyz/leaderboard/global/2a25bx91\n",
      "0.4830824 : https://www.beatleader.xyz/leaderboard/global/1385271\n",
      "0.5226438 : https://www.beatleader.xyz/leaderboard/global/1e9991\n",
      "0.5297132 : https://www.beatleader.xyz/leaderboard/global/1cc0f91\n",
      "\n",
      "\n"
     ]
    }
   ],
   "source": [
    "# Compute similarity\n",
    "target = '184df71'\n",
    "target_rank = test_ranks[list(maps).index(target)]\n",
    "\n",
    "results = []\n",
    "for i in range(len(maps)):\n",
    "    map = maps[i]\n",
    "    rank = test_ranks[i]\n",
    "    results.append((map, np.dot(rank, target_rank)))\n",
    "    # heapq.heappush(results, (np.dot(rank, target_rank), map))\n",
    "\n",
    "results.sort(key=lambda el: el[1])\n",
    "\n",
    "print('Target Map: https://www.beatleader.xyz/leaderboard/global/' + target)\n",
    "\n",
    "print('\\nMost Similar Maps:')\n",
    "for i in range(2, 7):\n",
    "    print(results[-i][1], ':', 'https://www.beatleader.xyz/leaderboard/global/' + results[-i][0])\n",
    "\n",
    "print('\\nLeast Similar Maps:')\n",
    "for i in range(5):\n",
    "    print(results[i][1], ':', 'https://www.beatleader.xyz/leaderboard/global/' + results[i][0])\n",
    "\n",
    "print('\\n')"
   ]
  },
  {
   "cell_type": "code",
   "execution_count": 91,
   "id": "7928f17e",
   "metadata": {},
   "outputs": [
    {
     "name": "stdout",
     "output_type": "stream",
     "text": [
      "Most Similar Appearances:\n",
      "2185bxxxx71: 21\n",
      "168de71: 18\n",
      "1703f71: 18\n",
      "1a32291: 17\n",
      "20ad7x71: 16\n",
      "\n",
      "Least Similar Appearances:\n",
      "2a25bx91: 903\n",
      "1385271: 900\n",
      "c32d91: 786\n",
      "1e9991: 572\n",
      "d00c91: 521\n"
     ]
    }
   ],
   "source": [
    "# Count most and least similar\n",
    "# target = '11b4991'\n",
    "# target_rank = test_ranks[list(maps).index(target)]\n",
    "\n",
    "most_sim_counts = {}\n",
    "least_sim_counts = {}\n",
    "\n",
    "for id in maps:\n",
    "    most_sim_counts[id] = 0\n",
    "    least_sim_counts[id] = 0\n",
    "\n",
    "for t_rank in test_ranks:\n",
    "    results = []\n",
    "    for i in range(len(maps)):\n",
    "        map = maps[i]\n",
    "        rank = test_ranks[i]\n",
    "        results.append((map, np.dot(rank, t_rank)))\n",
    "\n",
    "    results.sort(key=lambda el: el[1])\n",
    "\n",
    "    for i in range(2, 7):\n",
    "        most_sim_counts[results[-i][0]] += 1\n",
    "    for i in range(5):\n",
    "        least_sim_counts[results[i][0]] += 1\n",
    "\n",
    "most_sim = sorted(most_sim_counts.items(), key=lambda el: el[1])\n",
    "least_sim = sorted(least_sim_counts.items(), key=lambda el: el[1])\n",
    "\n",
    "print('Most Similar Appearances:')\n",
    "for i in range(1, 6):\n",
    "    print(most_sim[-i][0] + ': ' + str(most_sim[-i][1]))\n",
    "\n",
    "print()\n",
    "\n",
    "print('Least Similar Appearances:')\n",
    "for i in range(1, 6):\n",
    "    print(least_sim[-i][0] + ': ' + str(least_sim[-i][1]))\n"
   ]
  },
  {
   "cell_type": "code",
   "execution_count": 121,
   "id": "90deb495",
   "metadata": {},
   "outputs": [
    {
     "name": "stderr",
     "output_type": "stream",
     "text": [
      "C:\\Users\\Chris\\AppData\\Local\\Temp\\ipykernel_16672\\967336160.py:15: UserWarning: This pattern is interpreted as a regular expression, and has match groups. To actually get the groups, use str.extract.\n",
      "  with_mappers_no_collab = with_mappers[~with_mappers['mapper'].str.contains('(\\&|\\,|\\svs\\.)', regex=True)]   # Remove collab maps\n"
     ]
    },
    {
     "data": {
      "text/html": [
       "<div>\n",
       "<style scoped>\n",
       "    .dataframe tbody tr th:only-of-type {\n",
       "        vertical-align: middle;\n",
       "    }\n",
       "\n",
       "    .dataframe tbody tr th {\n",
       "        vertical-align: top;\n",
       "    }\n",
       "\n",
       "    .dataframe thead th {\n",
       "        text-align: right;\n",
       "    }\n",
       "</style>\n",
       "<table border=\"1\" class=\"dataframe\">\n",
       "  <thead>\n",
       "    <tr style=\"text-align: right;\">\n",
       "      <th></th>\n",
       "      <th>LeaderboardId</th>\n",
       "      <th>mapper</th>\n",
       "      <th>test_ranks</th>\n",
       "    </tr>\n",
       "  </thead>\n",
       "  <tbody>\n",
       "    <tr>\n",
       "      <th>0</th>\n",
       "      <td>16e9791</td>\n",
       "      <td>altrewin</td>\n",
       "      <td>[0.33214077, -0.3331743, -0.50072366, -0.22835...</td>\n",
       "    </tr>\n",
       "    <tr>\n",
       "      <th>1</th>\n",
       "      <td>12bd251</td>\n",
       "      <td>cerret</td>\n",
       "      <td>[0.23852026, -0.28436553, -0.22374626, -0.2110...</td>\n",
       "    </tr>\n",
       "    <tr>\n",
       "      <th>2</th>\n",
       "      <td>d4a571</td>\n",
       "      <td>ETAN</td>\n",
       "      <td>[0.20471643, -0.2148198, -0.27308458, -0.36335...</td>\n",
       "    </tr>\n",
       "    <tr>\n",
       "      <th>3</th>\n",
       "      <td>ba4071</td>\n",
       "      <td>Rogdude</td>\n",
       "      <td>[0.24801052, -0.286663, -0.2376006, -0.3112239...</td>\n",
       "    </tr>\n",
       "    <tr>\n",
       "      <th>4</th>\n",
       "      <td>1821871</td>\n",
       "      <td>Timbo</td>\n",
       "      <td>[0.38546827, -0.29871312, -0.26552692, -0.3438...</td>\n",
       "    </tr>\n",
       "    <tr>\n",
       "      <th>...</th>\n",
       "      <td>...</td>\n",
       "      <td>...</td>\n",
       "      <td>...</td>\n",
       "    </tr>\n",
       "    <tr>\n",
       "      <th>1016</th>\n",
       "      <td>1fb19xxxxx91</td>\n",
       "      <td>Irish</td>\n",
       "      <td>[0.4120143, -0.27789205, -0.38699707, -0.35438...</td>\n",
       "    </tr>\n",
       "    <tr>\n",
       "      <th>1018</th>\n",
       "      <td>2e4bfx91</td>\n",
       "      <td>cerret</td>\n",
       "      <td>[0.43736592, -0.36273715, -0.38078386, -0.1856...</td>\n",
       "    </tr>\n",
       "    <tr>\n",
       "      <th>1019</th>\n",
       "      <td>28523xxxxxx91</td>\n",
       "      <td>Jabob</td>\n",
       "      <td>[0.0322152, -0.34822726, -0.45311615, 0.018742...</td>\n",
       "    </tr>\n",
       "    <tr>\n",
       "      <th>1021</th>\n",
       "      <td>1fd62xxx51</td>\n",
       "      <td>ani</td>\n",
       "      <td>[0.20302303, -0.37476328, -0.19414923, -0.3580...</td>\n",
       "    </tr>\n",
       "    <tr>\n",
       "      <th>1023</th>\n",
       "      <td>2fbdb91</td>\n",
       "      <td>General Dumbass</td>\n",
       "      <td>[0.16777666, -0.18977205, -0.24861471, -0.3498...</td>\n",
       "    </tr>\n",
       "  </tbody>\n",
       "</table>\n",
       "<p>690 rows × 3 columns</p>\n",
       "</div>"
      ],
      "text/plain": [
       "      LeaderboardId           mapper  \\\n",
       "0           16e9791         altrewin   \n",
       "1           12bd251           cerret   \n",
       "2            d4a571             ETAN   \n",
       "3            ba4071          Rogdude   \n",
       "4           1821871            Timbo   \n",
       "...             ...              ...   \n",
       "1016   1fb19xxxxx91            Irish   \n",
       "1018       2e4bfx91           cerret   \n",
       "1019  28523xxxxxx91            Jabob   \n",
       "1021     1fd62xxx51              ani   \n",
       "1023        2fbdb91  General Dumbass   \n",
       "\n",
       "                                             test_ranks  \n",
       "0     [0.33214077, -0.3331743, -0.50072366, -0.22835...  \n",
       "1     [0.23852026, -0.28436553, -0.22374626, -0.2110...  \n",
       "2     [0.20471643, -0.2148198, -0.27308458, -0.36335...  \n",
       "3     [0.24801052, -0.286663, -0.2376006, -0.3112239...  \n",
       "4     [0.38546827, -0.29871312, -0.26552692, -0.3438...  \n",
       "...                                                 ...  \n",
       "1016  [0.4120143, -0.27789205, -0.38699707, -0.35438...  \n",
       "1018  [0.43736592, -0.36273715, -0.38078386, -0.1856...  \n",
       "1019  [0.0322152, -0.34822726, -0.45311615, 0.018742...  \n",
       "1021  [0.20302303, -0.37476328, -0.19414923, -0.3580...  \n",
       "1023  [0.16777666, -0.18977205, -0.24861471, -0.3498...  \n",
       "\n",
       "[690 rows x 3 columns]"
      ]
     },
     "execution_count": 121,
     "metadata": {},
     "output_type": "execute_result"
    }
   ],
   "source": [
    "# # Get mappers\n",
    "# import requests\n",
    "# import json\n",
    "\n",
    "# def get_mapper(lid: str):\n",
    "#     response = requests.get(f'https://api.beatleader.xyz/leaderboard/{lid}', {'accept': 'text/plain'})\n",
    "#     return response.json()['song']['mapper']\n",
    "\n",
    "# with_mappers = pd.DataFrame({'LeaderboardId': maps})\n",
    "# with_mappers['mapper'] = with_mappers['LeaderboardId'].apply(get_mapper)\n",
    "\n",
    "# with_mappers.to_csv('LID_and_mappers.csv', index=False)  # Save this so we don't have to spam requests\n",
    "with_mappers = pd.read_csv('LID_and_mappers.csv')\n",
    "with_mappers['test_ranks'] = test_ranks\n",
    "with_mappers_no_collab = with_mappers[~with_mappers['mapper'].str.contains('(\\&|\\,|\\svs\\.)', regex=True)]   # Remove collab maps\n",
    "with_mappers_no_collab\n"
   ]
  },
  {
   "cell_type": "code",
   "execution_count": 122,
   "id": "a5cbf8ee",
   "metadata": {},
   "outputs": [
    {
     "name": "stdout",
     "output_type": "stream",
     "text": [
      "Mean dot product of 2 random maps: 0.8845562934875488\n",
      "SD of ^: 0.09477957338094711\n",
      "Mean dot product of 2 maps from the same mapper: 0.9043101072311401\n",
      "SD of ^: 0.08980649709701538\n",
      "Sample size: 1000\n",
      "t-value: -4.781808801049192\n",
      "p-value: 1.8641881363583812e-06\n"
     ]
    }
   ],
   "source": [
    "# Significance test of random maps vs. same mapper\n",
    "import random\n",
    "from scipy.stats import ttest_ind\n",
    "\n",
    "NUM_SAMPLES = 1000\n",
    "\n",
    "pool_dist = []\n",
    "mapper_dist = []\n",
    "\n",
    "mappers = with_mappers_no_collab['mapper'].unique()\n",
    "\n",
    "for i in range(NUM_SAMPLES):\n",
    "    pool_sample = random.sample(test_ranks, 2)\n",
    "    pool_dist.append(np.dot(pool_sample[0], pool_sample[1]))\n",
    "\n",
    "    while True:\n",
    "        # Ensure that the randomly chosen mapper has created >= 2 maps\n",
    "        mapper_choice = random.choice(mappers)\n",
    "        test_ranks_by_mapper = with_mappers_no_collab[with_mappers_no_collab['mapper'] == mapper_choice]['test_ranks'].tolist()\n",
    "        if len(test_ranks_by_mapper) >= 2:\n",
    "            break\n",
    "\n",
    "    mapper_sample = random.sample(test_ranks_by_mapper, 2)\n",
    "    mapper_dist.append(np.dot(mapper_sample[0], mapper_sample[1]))\n",
    "    \n",
    "ttest_result = ttest_ind(pool_dist, mapper_dist)\n",
    "\n",
    "print(f'Mean dot product of 2 random maps: {np.mean(pool_dist)}')\n",
    "print(f'SD of ^: {np.std(pool_dist)}')\n",
    "print(f'Mean dot product of 2 maps from the same mapper: {np.mean(mapper_dist)}')\n",
    "print(f'SD of ^: {np.std(mapper_dist)}')\n",
    "print(f'Sample size: {NUM_SAMPLES}')\n",
    "print(f't-value: {ttest_result.statistic}')\n",
    "print(f'p-value: {ttest_result.pvalue}')"
   ]
  },
  {
   "cell_type": "code",
   "execution_count": 1,
   "id": "54497040",
   "metadata": {},
   "outputs": [
    {
     "ename": "NameError",
     "evalue": "name 'test_ranks' is not defined",
     "output_type": "error",
     "traceback": [
      "\u001b[1;31m---------------------------------------------------------------------------\u001b[0m",
      "\u001b[1;31mNameError\u001b[0m                                 Traceback (most recent call last)",
      "Cell \u001b[1;32mIn[1], line 1\u001b[0m\n\u001b[1;32m----> 1\u001b[0m test_ranks\n",
      "\u001b[1;31mNameError\u001b[0m: name 'test_ranks' is not defined"
     ]
    }
   ],
   "source": [
    "test_ranks"
   ]
  },
  {
   "cell_type": "code",
   "execution_count": null,
   "id": "0678dd84",
   "metadata": {},
   "outputs": [],
   "source": []
  }
 ],
 "metadata": {
  "kernelspec": {
   "display_name": "Python 3 (ipykernel)",
   "language": "python",
   "name": "python3"
  },
  "language_info": {
   "codemirror_mode": {
    "name": "ipython",
    "version": 3
   },
   "file_extension": ".py",
   "mimetype": "text/x-python",
   "name": "python",
   "nbconvert_exporter": "python",
   "pygments_lexer": "ipython3",
   "version": "3.10.11"
  }
 },
 "nbformat": 4,
 "nbformat_minor": 5
}
