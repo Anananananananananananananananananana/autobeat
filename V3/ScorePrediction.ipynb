{
 "cells": [
  {
   "cell_type": "code",
   "execution_count": 5,
   "metadata": {},
   "outputs": [],
   "source": [
    "import pandas as pd\n",
    "import math\n",
    "import numpy as np\n",
    "from sklearn.model_selection import train_test_split\n",
    "from sklearn import preprocessing\n",
    "import torch\n",
    "import torch.autograd as autograd         # computation graph\n",
    "from torch import Tensor                  # tensor node in the computation graph\n",
    "import torch.nn as nn                     # neural networks\n",
    "import torch.nn.functional as F           # layers, activations and more\n",
    "import torch.optim as optim               # optimizers e.g. gradient descent, ADAM, etc.\n",
    "from torch.jit import script, trace       # hybrid frontend decorator and tracing jit"
   ]
  },
  {
   "cell_type": "code",
   "execution_count": 13,
   "metadata": {},
   "outputs": [
    {
     "data": {
      "text/html": [
       "<div>\n",
       "<style scoped>\n",
       "    .dataframe tbody tr th:only-of-type {\n",
       "        vertical-align: middle;\n",
       "    }\n",
       "\n",
       "    .dataframe tbody tr th {\n",
       "        vertical-align: top;\n",
       "    }\n",
       "\n",
       "    .dataframe thead th {\n",
       "        text-align: right;\n",
       "    }\n",
       "</style>\n",
       "<table border=\"1\" class=\"dataframe\">\n",
       "  <thead>\n",
       "    <tr style=\"text-align: right;\">\n",
       "      <th></th>\n",
       "      <th>Timeset</th>\n",
       "      <th>LeaderboardId</th>\n",
       "      <th>PlayerId</th>\n",
       "      <th>BaseScore</th>\n",
       "      <th>Modifiers</th>\n",
       "      <th>ModifiedScore</th>\n",
       "      <th>MaxCombo</th>\n",
       "      <th>BadCuts</th>\n",
       "      <th>MissedNotes</th>\n",
       "      <th>BombCuts</th>\n",
       "      <th>WallsHit</th>\n",
       "      <th>Pauses</th>\n",
       "      <th>Accuracy</th>\n",
       "      <th>AccLeft</th>\n",
       "      <th>AccRight</th>\n",
       "    </tr>\n",
       "  </thead>\n",
       "  <tbody>\n",
       "    <tr>\n",
       "      <th>0</th>\n",
       "      <td>1644635687</td>\n",
       "      <td>16e9791</td>\n",
       "      <td>76561198059961776</td>\n",
       "      <td>1770790</td>\n",
       "      <td>NaN</td>\n",
       "      <td>1770790</td>\n",
       "      <td>538</td>\n",
       "      <td>2</td>\n",
       "      <td>9</td>\n",
       "      <td>0</td>\n",
       "      <td>0</td>\n",
       "      <td>0</td>\n",
       "      <td>0.916503</td>\n",
       "      <td>107.967896</td>\n",
       "      <td>107.836296</td>\n",
       "    </tr>\n",
       "    <tr>\n",
       "      <th>1</th>\n",
       "      <td>1645051845</td>\n",
       "      <td>1b7bf11</td>\n",
       "      <td>76561198157672038</td>\n",
       "      <td>370318</td>\n",
       "      <td>NaN</td>\n",
       "      <td>370318</td>\n",
       "      <td>423</td>\n",
       "      <td>0</td>\n",
       "      <td>0</td>\n",
       "      <td>0</td>\n",
       "      <td>0</td>\n",
       "      <td>0</td>\n",
       "      <td>0.969635</td>\n",
       "      <td>111.512080</td>\n",
       "      <td>111.546295</td>\n",
       "    </tr>\n",
       "    <tr>\n",
       "      <th>2</th>\n",
       "      <td>1645051459</td>\n",
       "      <td>1bf7651</td>\n",
       "      <td>76561198157672038</td>\n",
       "      <td>740675</td>\n",
       "      <td>NaN</td>\n",
       "      <td>740675</td>\n",
       "      <td>837</td>\n",
       "      <td>0</td>\n",
       "      <td>0</td>\n",
       "      <td>0</td>\n",
       "      <td>0</td>\n",
       "      <td>0</td>\n",
       "      <td>0.971001</td>\n",
       "      <td>111.798080</td>\n",
       "      <td>111.551070</td>\n",
       "    </tr>\n",
       "    <tr>\n",
       "      <th>3</th>\n",
       "      <td>1645051735</td>\n",
       "      <td>2188291</td>\n",
       "      <td>76561198157672038</td>\n",
       "      <td>314301</td>\n",
       "      <td>NaN</td>\n",
       "      <td>314301</td>\n",
       "      <td>364</td>\n",
       "      <td>0</td>\n",
       "      <td>0</td>\n",
       "      <td>0</td>\n",
       "      <td>0</td>\n",
       "      <td>0</td>\n",
       "      <td>0.959302</td>\n",
       "      <td>110.049720</td>\n",
       "      <td>110.661200</td>\n",
       "    </tr>\n",
       "    <tr>\n",
       "      <th>4</th>\n",
       "      <td>1645051221</td>\n",
       "      <td>1c68051</td>\n",
       "      <td>76561198157672038</td>\n",
       "      <td>350509</td>\n",
       "      <td>NaN</td>\n",
       "      <td>350509</td>\n",
       "      <td>402</td>\n",
       "      <td>0</td>\n",
       "      <td>0</td>\n",
       "      <td>0</td>\n",
       "      <td>0</td>\n",
       "      <td>0</td>\n",
       "      <td>0.966668</td>\n",
       "      <td>111.420510</td>\n",
       "      <td>110.971016</td>\n",
       "    </tr>\n",
       "  </tbody>\n",
       "</table>\n",
       "</div>"
      ],
      "text/plain": [
       "      Timeset LeaderboardId           PlayerId  BaseScore Modifiers  \\\n",
       "0  1644635687       16e9791  76561198059961776    1770790       NaN   \n",
       "1  1645051845       1b7bf11  76561198157672038     370318       NaN   \n",
       "2  1645051459       1bf7651  76561198157672038     740675       NaN   \n",
       "3  1645051735       2188291  76561198157672038     314301       NaN   \n",
       "4  1645051221       1c68051  76561198157672038     350509       NaN   \n",
       "\n",
       "   ModifiedScore  MaxCombo  BadCuts  MissedNotes  BombCuts  WallsHit  Pauses  \\\n",
       "0        1770790       538        2            9         0         0       0   \n",
       "1         370318       423        0            0         0         0       0   \n",
       "2         740675       837        0            0         0         0       0   \n",
       "3         314301       364        0            0         0         0       0   \n",
       "4         350509       402        0            0         0         0       0   \n",
       "\n",
       "   Accuracy     AccLeft    AccRight  \n",
       "0  0.916503  107.967896  107.836296  \n",
       "1  0.969635  111.512080  111.546295  \n",
       "2  0.971001  111.798080  111.551070  \n",
       "3  0.959302  110.049720  110.661200  \n",
       "4  0.966668  111.420510  110.971016  "
      ]
     },
     "execution_count": 13,
     "metadata": {},
     "output_type": "execute_result"
    }
   ],
   "source": [
    "all_scores = pd.read_csv(\"AllScoresExtracted.csv\")\n",
    "all_scores.head()"
   ]
  },
  {
   "cell_type": "code",
   "execution_count": 14,
   "metadata": {},
   "outputs": [
    {
     "data": {
      "text/plain": [
       "(3296589, 15)"
      ]
     },
     "execution_count": 14,
     "metadata": {},
     "output_type": "execute_result"
    }
   ],
   "source": [
    "# Data processing\n",
    "# Do we want unique playerIds? \n",
    "no_mods = all_scores[all_scores['Modifiers'].isnull()]\n",
    "no_mods.shape"
   ]
  },
  {
   "cell_type": "code",
   "execution_count": 16,
   "metadata": {},
   "outputs": [
    {
     "data": {
      "text/plain": [
       "2432321    0.0\n",
       "487839     0.0\n",
       "18784      0.0\n",
       "829262     0.0\n",
       "1039135    0.0\n",
       "          ... \n",
       "2740672    1.0\n",
       "2077345    1.0\n",
       "2801520    1.0\n",
       "3083026    1.0\n",
       "2597101    1.0\n",
       "Name: Accuracy, Length: 3296589, dtype: float64"
      ]
     },
     "execution_count": 16,
     "metadata": {},
     "output_type": "execute_result"
    }
   ],
   "source": [
    "no_mods['Accuracy'].sort_values()"
   ]
  },
  {
   "cell_type": "code",
   "execution_count": null,
   "metadata": {},
   "outputs": [],
   "source": []
  }
 ],
 "metadata": {
  "kernelspec": {
   "display_name": "env_full",
   "language": "python",
   "name": "python3"
  },
  "language_info": {
   "codemirror_mode": {
    "name": "ipython",
    "version": 3
   },
   "file_extension": ".py",
   "mimetype": "text/x-python",
   "name": "python",
   "nbconvert_exporter": "python",
   "pygments_lexer": "ipython3",
   "version": "3.10.11"
  },
  "orig_nbformat": 4
 },
 "nbformat": 4,
 "nbformat_minor": 2
}
