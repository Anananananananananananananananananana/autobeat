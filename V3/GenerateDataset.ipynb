{
 "cells": [
  {
   "cell_type": "code",
   "execution_count": 2,
   "metadata": {
    "collapsed": true,
    "ExecuteTime": {
     "end_time": "2023-09-17T00:50:13.361081Z",
     "start_time": "2023-09-17T00:50:13.293422Z"
    }
   },
   "outputs": [],
   "source": [
    "import requests\n",
    "import json\n",
    "import time\n",
    "import os\n",
    "import shutil\n",
    "import zipfile"
   ]
  },
  {
   "cell_type": "markdown",
   "source": [
    "`MAX_NPS` and `MAX_BPM` filter out the challenge maps which spam notes and thus should have an abnormally high nps or bpm. `MIN_NPS` filters out the slow accuracy maps that may have strange patterns only hittable at low speeds.\n",
    "`MIN_DURATION_SECONDS` and `MAX_DURATION_SECONDS` are to filter out the short maps, low effort maps or the extremely long movie soundtracks that occasionally pop up.\n",
    " `MIN_RATING` and `MIN_UPVOTES` are to make sure the maps are actually well liked by the players.\n"
   ],
   "metadata": {
    "collapsed": false
   }
  },
  {
   "cell_type": "code",
   "execution_count": 3,
   "outputs": [],
   "source": [
    "START_DATE = '2021-01-01'\n",
    "END_DATE = '2023-09-01'\n",
    "MAX_NPS = 13\n",
    "MIN_NPS = 4\n",
    "MAX_BPM = 350\n",
    "MIN_DURATION_SECONDS = 60\n",
    "MAX_DURATION_SECONDS = 360\n",
    "MIN_RATING = 0.7\n",
    "MIN_UPVOTES = 40"
   ],
   "metadata": {
    "collapsed": false,
    "ExecuteTime": {
     "end_time": "2023-09-17T00:50:13.608453Z",
     "start_time": "2023-09-17T00:50:13.605676200Z"
    }
   }
  },
  {
   "cell_type": "markdown",
   "source": [
    "Functions to search through and select high quality maps"
   ],
   "metadata": {
    "collapsed": false
   }
  },
  {
   "cell_type": "code",
   "execution_count": 18,
   "outputs": [],
   "source": [
    "# set max_requests to -1 to search until all maps are exhausted\n",
    "def generateDataset(max_requests=1):\n",
    "    end = END_DATE\n",
    "    num_requests = 0\n",
    "    pruned_maps = []\n",
    "    while num_requests != max_requests:\n",
    "        maps_result = requests.get('https://api.beatsaver.com/search/text/0?from=' + START_DATE + '&maxBpm=' + str(MAX_BPM) + '&maxDuration=' + str(MAX_DURATION_SECONDS) + '&maxNps=' + str(MAX_NPS) + '&minDuration=' + str(MIN_DURATION_SECONDS) + '&minNps=' + str(MIN_NPS) + '&minRating=' + str(MIN_RATING) + '&noodle=false&sortOrder=Latest&to=' + end)\n",
    "        num_requests += 1\n",
    "        maps_json = json.loads(maps_result.text)\n",
    "        pruned_maps += pruneMaps(maps_json['docs'])\n",
    "        end = maps_json['docs'][-1]['createdAt']\n",
    "\n",
    "        # Beatsaver sends maps in batches of 20\n",
    "        if len(maps_json['docs']) < 20:\n",
    "            break\n",
    "    return pruned_maps\n",
    "\n",
    "def pruneMaps(maps_json):\n",
    "    pruned_maps = []\n",
    "    for map in maps_json:\n",
    "        # Min Upvotes check\n",
    "        if map['stats']['upvotes'] < MIN_UPVOTES:\n",
    "            continue\n",
    "\n",
    "        beatleader_info = json.loads(requests.get('https://api.beatleader.xyz/leaderboards/hash/'+map['versions'][0]['hash']).text)\n",
    "        time.sleep(0.1) # Precaution to not exceed maximum requests/second\n",
    "\n",
    "        # Check that any Standard difficulty does not require Mapping Extensions, Noodle Extensions, or V3 notes.\n",
    "        for diff in beatleader_info['song']['difficulties']:\n",
    "            if diff['mode'] == 1 and diff['requirements'] & 0b101100 != 0:\n",
    "                break\n",
    "        else:\n",
    "            pruned_maps.append([map['id'], map['versions'][0]['downloadURL']])\n",
    "    return pruned_maps"
   ],
   "metadata": {
    "collapsed": false,
    "ExecuteTime": {
     "end_time": "2023-09-17T02:08:04.801338600Z",
     "start_time": "2023-09-17T02:08:04.797538800Z"
    }
   }
  },
  {
   "cell_type": "markdown",
   "source": [
    "Generating dataset text file"
   ],
   "metadata": {
    "collapsed": false
   }
  },
  {
   "cell_type": "code",
   "execution_count": null,
   "outputs": [],
   "source": [
    "maps = generateDataset(max_requests=-1)\n",
    "print(len(maps))"
   ],
   "metadata": {
    "collapsed": false
   }
  },
  {
   "cell_type": "code",
   "execution_count": 19,
   "outputs": [],
   "source": [
    "dataset_txt = open('dataset_ids_urls.txt', 'w')\n",
    "dataset_txt.write(json.dumps(maps, indent=4))\n",
    "dataset_txt.close()"
   ],
   "metadata": {
    "collapsed": false,
    "ExecuteTime": {
     "end_time": "2023-09-17T02:08:16.636597900Z",
     "start_time": "2023-09-17T02:08:16.620793300Z"
    }
   }
  },
  {
   "cell_type": "markdown",
   "source": [
    "Functions to download all Standard mode .dat files into `directory`"
   ],
   "metadata": {
    "collapsed": false
   }
  },
  {
   "cell_type": "code",
   "execution_count": 5,
   "outputs": [],
   "source": [
    "directory = 'BeatSaberMapsDataset'"
   ],
   "metadata": {
    "collapsed": false,
    "ExecuteTime": {
     "end_time": "2023-09-17T00:50:25.431558700Z",
     "start_time": "2023-09-17T00:50:25.421949900Z"
    }
   }
  },
  {
   "cell_type": "code",
   "execution_count": 12,
   "outputs": [],
   "source": [
    "def downloadDataset(map_ids_urls):\n",
    "\n",
    "    # Initializing directories and log\n",
    "    if not os.path.exists(directory):\n",
    "        os.mkdir(directory)\n",
    "    if not os.path.exists(directory+'\\\\dlfolder'):\n",
    "        os.mkdir(directory+'\\\\dlfolder')\n",
    "    log = open(directory+'\\\\log.txt','w')\n",
    "    for map_id, url in map_ids_urls:\n",
    "        deleteMap()\n",
    "        downloaded = downloadMap(url)\n",
    "        time.sleep(0.1)\n",
    "        if not downloaded:\n",
    "            log.write('Map '+map_id+' failed to download\\n')\n",
    "            continue\n",
    "        extractStandardDiffs(map_id)\n",
    "    shutil.rmtree(directory+'\\\\dlfolder')\n",
    "    log.close()\n",
    "\n",
    "def deleteMap():\n",
    "    if os.path.exists(directory+'dlFolder\\\\zipped'):\n",
    "        os.remove(directory+'dlFolder\\\\zipped')\n",
    "    if os.path.exists(directory+'dlFolder\\\\currentMap'):\n",
    "        shutil.rmtree(directory+'dlFolder\\\\currentMap')\n",
    "\n",
    "def downloadMap(url):\n",
    "    r = requests.get(url, allow_redirects=True)\n",
    "    open(directory+'\\\\dlfolder\\\\zipped', 'wb').write(r.content)\n",
    "    try:\n",
    "        with zipfile.ZipFile(directory+'\\\\dlFolder\\\\zipped', 'r') as zip_ref:\n",
    "            zip_ref.extractall(directory+'\\\\dlFolder\\\\currentMap')\n",
    "            zip_ref.close()\n",
    "    except:\n",
    "        return False\n",
    "    return True\n",
    "\n",
    "def extractStandardDiffs(map_id):\n",
    "    leaderboardID_dict = {\n",
    "        'EasyStandard' : '11',\n",
    "        'NormalStandard' : '31',\n",
    "        'HardStandard' : '51',\n",
    "        'ExpertStandard' : '71',\n",
    "        'ExpertPlusStandard' : '91'\n",
    "    }\n",
    "\n",
    "    for key, value in leaderboardID_dict.items():\n",
    "        if os.path.exists(directory+'\\\\dlfolder\\\\currentMap\\\\'+key+'.dat'):\n",
    "            try:\n",
    "                shutil.move(directory+'\\\\dlfolder\\\\currentMap\\\\'+key+'.dat', directory+'\\\\'+map_id+value+'.dat')\n",
    "            except:\n",
    "                continue\n"
   ],
   "metadata": {
    "collapsed": false,
    "ExecuteTime": {
     "end_time": "2023-09-17T00:54:49.885441900Z",
     "start_time": "2023-09-17T00:54:49.878947100Z"
    }
   }
  },
  {
   "cell_type": "markdown",
   "source": [
    "Downloading dataset"
   ],
   "metadata": {
    "collapsed": false
   }
  },
  {
   "cell_type": "code",
   "execution_count": 7,
   "outputs": [],
   "source": [
    "dataset_txt = open('dataset_ids_urls.txt', 'r')\n",
    "maps = json.load(dataset_txt)\n",
    "dataset_txt.close()"
   ],
   "metadata": {
    "collapsed": false,
    "ExecuteTime": {
     "end_time": "2023-09-17T00:50:34.693681100Z",
     "start_time": "2023-09-17T00:50:34.688333Z"
    }
   }
  },
  {
   "cell_type": "code",
   "execution_count": 11,
   "outputs": [],
   "source": [
    "downloadDataset(maps)"
   ],
   "metadata": {
    "collapsed": false,
    "ExecuteTime": {
     "end_time": "2023-09-17T00:52:43.233321300Z",
     "start_time": "2023-09-17T00:51:13.518830100Z"
    }
   }
  }
 ],
 "metadata": {
  "kernelspec": {
   "display_name": "Python 3",
   "language": "python",
   "name": "python3"
  },
  "language_info": {
   "codemirror_mode": {
    "name": "ipython",
    "version": 2
   },
   "file_extension": ".py",
   "mimetype": "text/x-python",
   "name": "python",
   "nbconvert_exporter": "python",
   "pygments_lexer": "ipython2",
   "version": "2.7.6"
  }
 },
 "nbformat": 4,
 "nbformat_minor": 0
}
